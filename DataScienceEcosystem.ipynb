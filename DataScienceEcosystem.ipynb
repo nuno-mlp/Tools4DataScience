{
 "cells": [
  {
   "cell_type": "markdown",
   "id": "e1d301da-f09d-4f11-bca4-240b96436cbc",
   "metadata": {},
   "source": [
    "# Data Science Tools and Ecosystem\n"
   ]
  },
  {
   "cell_type": "markdown",
   "id": "99a92b29-32cb-4990-a4c6-cd4dc1955638",
   "metadata": {},
   "source": [
    "In this notebook, Data Science Tools and Ecosystem are summarized."
   ]
  },
  {
   "cell_type": "markdown",
   "id": "2bebacc6-e9bf-4f7e-bced-dd9cdb5640a5",
   "metadata": {},
   "source": [
    "**Objectives:**\n",
    "* List popular programming languages used in Data Science\n",
    "* List commonly used libraries in Data Science\n",
    "* Create a table of IDEs commonly used by data scientists\n",
    "* Evaluate a few examples of arithmetic expressions in Python"
   ]
  },
  {
   "cell_type": "markdown",
   "id": "794df5f3-7920-42b3-b823-421d38293059",
   "metadata": {},
   "source": [
    "Some of the popular languages that Data Scientists use are:\n",
    "1. Python\n",
    "2. R\n",
    "3. SQL\n",
    "4. Julia\n",
    "5. JavaScript"
   ]
  },
  {
   "cell_type": "markdown",
   "id": "8f2416d9-4e97-4543-94e5-ea7338258184",
   "metadata": {},
   "source": [
    "Some of the commonly used libraries used by Data Scientists include:\n",
    "1. Pandas\n",
    "2. Scikit-learn\n",
    "3. TensorFlow\n",
    "4. NumPy\n",
    "5. Matplotlib"
   ]
  },
  {
   "cell_type": "markdown",
   "id": "321e6622-fe0a-4574-b628-4002b289e40e",
   "metadata": {},
   "source": [
    "|Data Science Tools|\n",
    "|------------------|\n",
    "|JupyterLab        |\n",
    "|RStudio           |\n",
    "|VS Code           |"
   ]
  },
  {
   "cell_type": "markdown",
   "id": "a01f4de1-8e5b-4f78-ad41-fb904f970474",
   "metadata": {},
   "source": [
    "### Below are a few examples of evaluating arithmetic expressions in Python."
   ]
  },
  {
   "cell_type": "code",
   "execution_count": 10,
   "id": "e44f9f7c-6463-4873-8cf7-4a4ac24fbd3b",
   "metadata": {},
   "outputs": [
    {
     "data": {
      "text/plain": [
       "17"
      ]
     },
     "execution_count": 10,
     "metadata": {},
     "output_type": "execute_result"
    }
   ],
   "source": [
    "# This a simple arithmetic expression to multiply and then add integers.\n",
    "(3*4)+5"
   ]
  },
  {
   "cell_type": "code",
   "execution_count": 27,
   "id": "c9e55825-5118-444f-b8d0-3f6d4f1f6c10",
   "metadata": {},
   "outputs": [
    {
     "name": "stdout",
     "output_type": "stream",
     "text": [
      "3.33\n"
     ]
    }
   ],
   "source": [
    "# This will convert 200 minutes to hours by dividing by 60.\n",
    "minutes = 200\n",
    "hours = round(minutes / 60, 2)\n",
    "print(hours)"
   ]
  },
  {
   "cell_type": "markdown",
   "id": "e7eb9b50-c73f-4a5e-83ec-42f64406a91a",
   "metadata": {},
   "source": [
    "## Author \n",
    "Nuno Lourenço Pires"
   ]
  },
  {
   "cell_type": "code",
   "execution_count": null,
   "id": "52209520-bc0e-4bae-8239-c3d63aa2ef8a",
   "metadata": {},
   "outputs": [],
   "source": []
  }
 ],
 "metadata": {
  "kernelspec": {
   "display_name": "Python 3 (ipykernel)",
   "language": "python",
   "name": "python3"
  },
  "language_info": {
   "codemirror_mode": {
    "name": "ipython",
    "version": 3
   },
   "file_extension": ".py",
   "mimetype": "text/x-python",
   "name": "python",
   "nbconvert_exporter": "python",
   "pygments_lexer": "ipython3",
   "version": "3.12.4"
  }
 },
 "nbformat": 4,
 "nbformat_minor": 5
}
